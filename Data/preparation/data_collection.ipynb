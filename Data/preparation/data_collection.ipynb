{
 "cells": [
  {
   "cell_type": "code",
   "execution_count": 55,
   "metadata": {},
   "outputs": [],
   "source": [
    "from selenium import webdriver\n",
    "from bs4 import BeautifulSoup\n",
    "import time\n",
    "import requests\n",
    "import requests\n",
    "from bs4 import BeautifulSoup\n",
    "import re\n",
    "import json\n"
   ]
  },
  {
   "cell_type": "code",
   "execution_count": 70,
   "metadata": {},
   "outputs": [
    {
     "name": "stdout",
     "output_type": "stream",
     "text": [
      "{'name': 'Áp xe não do amip', 'url': 'https://suckhoedoisong.vn/chu-de/ap-xe-nao-do-amip-4433.htm'}\n",
      "{'name': 'Ấu trùng sán lợn', 'url': 'https://suckhoedoisong.vn/chu-de/au-trung-san-lon-4422.htm'}\n",
      "{'name': 'Alkapton niệu', 'url': 'https://suckhoedoisong.vn/chu-de/alkapton-nieu-4374.htm'}\n",
      "{'name': 'Ấu dâm', 'url': 'https://suckhoedoisong.vn/chu-de/au-dam-4373.htm'}\n",
      "{'name': 'Áp xe thận', 'url': 'https://suckhoedoisong.vn/chu-de/ap-xe-than-4372.htm'}\n",
      "{'name': 'Áp xe gan do amip', 'url': 'https://suckhoedoisong.vn/chu-de/ap-xe-gan-do-amip-4367.htm'}\n",
      "{'name': 'Áp xe phổi', 'url': 'https://suckhoedoisong.vn/chu-de/ap-xe-phoi-4365.htm'}\n",
      "{'name': 'Áp xe hậu môn', 'url': 'https://suckhoedoisong.vn/chu-de/ap-xe-hau-mon-4356.htm'}\n",
      "{'name': 'Áp xe vú', 'url': 'https://suckhoedoisong.vn/chu-de/ap-xe-vu-4292.htm'}\n",
      "{'name': 'Acid uric', 'url': 'https://suckhoedoisong.vn/chu-de/acid-uric-4243.htm'}\n"
     ]
    }
   ],
   "source": [
    "\n",
    "# Cấu hình trình duyệt không hiển thị (headless)\n",
    "options = webdriver.ChromeOptions()\n",
    "options.add_argument(\"--headless\")  # chạy ngầm không mở cửa sổ trình duyệt\n",
    "\n",
    "# Tạo driver\n",
    "driver = webdriver.Chrome(options=options)\n",
    "\n",
    "# Truy cập trang\n",
    "driver.get(\"https://suckhoedoisong.vn/tra-cuu-benh.htm\")\n",
    "time.sleep(3)  # đợi JS load xong\n",
    "\n",
    "# Lấy HTML đã render đầy đủ\n",
    "html = driver.page_source\n",
    "soup = BeautifulSoup(html, \"html.parser\")\n",
    "\n",
    "# Tìm danh sách bệnh\n",
    "container = soup.find(\"div\", class_=\"list\")\n",
    "diseases = []\n",
    "\n",
    "if container:\n",
    "    links = container.find_all(\"a\", class_=\"item\")\n",
    "    for link in links:\n",
    "        name = link.get_text(strip=True)\n",
    "        href = link.get(\"href\")\n",
    "        if not href.startswith(\"http\"):\n",
    "            href = \"https://suckhoedoisong.vn\" + href\n",
    "        diseases.append({\n",
    "            \"name\": name,\n",
    "            \"url\": href\n",
    "        })\n",
    "\n",
    "    # In 10 kết quả đầu tiên\n",
    "    for d in diseases[:10]:\n",
    "        print(d)\n",
    "\n",
    "else:\n",
    "    print(\"Không tìm thấy div.list – JS chưa load xong hoặc cấu trúc HTML đã đổi\")\n",
    "\n",
    "# Đóng trình duyệt\n",
    "driver.quit()\n"
   ]
  },
  {
   "cell_type": "code",
   "execution_count": 12,
   "metadata": {},
   "outputs": [
    {
     "name": "stdout",
     "output_type": "stream",
     "text": [
      "{'title': 'Chế độ ăn cho người bị áp xe não do amip', 'url': 'https://suckhoedoisong.vn/che-do-an-cho-nguoi-bi-ap-xe-nao-do-amip-169250228174119445.htm', 'summary': 'SKĐS - Mặc dù không có khuyến nghị chế độ ăn uống cụ thể cho áp xe não do amip nhưng các tổ chức y tế uy tín đều khẳng định tầm quan trọng của dinh dưỡng hợp lý trong việc hỗ trợ hệ thống miễn dịch và sức khỏe tổng thể. Điều này rất quan trọng đối với những người bị nhiễm trùng như áp xe não do amip.'}\n",
      "{'title': 'Câu hỏi thường gặp về áp xe não do amip', 'url': 'https://suckhoedoisong.vn/cau-hoi-thuong-gap-ve-ap-xe-nao-do-amip-169240926102237051.htm', 'summary': 'SKĐS - Áp xe não do amip là bệnh lý nguy hiểm do vậy cần đề cao việc phòng ngừa. Chủ yếu mọi người cần lưu ý vấn đề vệ sinh và ăn uống hàng ngày.'}\n",
      "{'title': 'Áp xe não do amip: Nguyên nhân, triệu chứng, cách điều trị và phòng ngừa', 'url': 'https://suckhoedoisong.vn/ap-xe-nao-do-amip-nguyen-nhan-trieu-chung-cach-dieu-tri-va-phong-ngua-169240926100943926.htm', 'summary': 'SKĐS - Áp xe não do amip thường dễ nhầm lẫn với viêm màng não ở giai đoạn đầu do vậy dễ điều trị không đúng phác đồ. Tỷ lệ tử vong đối với bệnh nhân áp xe não do amip khá cao, di chứng để lại nặng nề.'}\n",
      "{'title': 'Bài tập hỗ trợ phục hồi di chứng cho người bệnh áp xe não do amip', 'url': 'https://suckhoedoisong.vn/bai-tap-ho-tro-phuc-hoi-di-chung-cho-nguoi-benh-ap-xe-nao-do-amip-169240701125216843.htm', 'summary': 'SKĐS - Áp xe não do amip là bệnh lý nguy hiểm, nguy cơ tử vong cao. Tuy nhiên, sau quá trình điều trị, người bệnh có thể thực hiện một số bài tập giúp nâng cao sức khỏe, cải thiện di chứng.'}\n",
      "{'title': 'Dùng thuốc trong điều trị áp xe não do amip', 'url': 'https://suckhoedoisong.vn/chua-ap-xe-nao-do-amip-co-kho-khong-16924062510513377.htm', 'summary': 'SKĐS - Áp xe não do amip\\xa0là bệnh lý thường gặp ở vùng nhiệt đới, với biểu hiện lâm sàng rất đa dạng. Việc phát hiện và điều trị sớm vô cùng quan trọng cho sự sống còn của bệnh nhân. Phát hiện muộn, bệnh tiến triển với các di chứng, biến chứng nặng nề và có nguy cơ tử vong cao...'}\n"
     ]
    }
   ],
   "source": [
    "def extract_all_box_category_contents(url):\n",
    "    response = requests.get(url)\n",
    "    if response.status_code != 200:\n",
    "        print(f\"Lỗi truy cập: {url}\")\n",
    "        return []\n",
    "\n",
    "    soup = BeautifulSoup(response.text, \"html.parser\")\n",
    "    boxes = soup.find_all(\"div\", class_=\"box-category-content\")\n",
    "\n",
    "    all_articles = []\n",
    "    for box in boxes:\n",
    "        # Tiêu đề và link\n",
    "        a_tag = box.select_one(\"h3.box-category-title-text > a\")\n",
    "        if not a_tag:\n",
    "            continue\n",
    "        title = a_tag.get(\"title\")\n",
    "        link = a_tag.get(\"href\")\n",
    "        if not link.startswith(\"http\"):\n",
    "            link = \"https://suckhoedoisong.vn\" + link\n",
    "\n",
    "        # Mô tả ngắn\n",
    "        summary_tag = box.find(\"p\", class_=\"box-category-sapo\")\n",
    "        summary = summary_tag.get_text(strip=True) if summary_tag else \"\"\n",
    "\n",
    "        all_articles.append({\n",
    "            \"title\": title,\n",
    "            \"url\": link,\n",
    "            \"summary\": summary\n",
    "        })\n",
    "\n",
    "    return all_articles\n",
    "url = \"https://suckhoedoisong.vn/chu-de/ap-xe-nao-do-amip-4433.htm\"\n",
    "articles = extract_all_box_category_contents(url)\n",
    "\n",
    "for a in articles:\n",
    "    print(a)\n"
   ]
  },
  {
   "cell_type": "code",
   "execution_count": 128,
   "metadata": {},
   "outputs": [
    {
     "name": "stdout",
     "output_type": "stream",
     "text": [
      "✅ Done. Output đã được lưu vào llm_output_cleaned.json\n"
     ]
    }
   ],
   "source": [
    "import requests\n",
    "from bs4 import BeautifulSoup, Tag\n",
    "import re\n",
    "import json\n",
    "\n",
    "\n",
    "def clean_numbering(text):\n",
    "    \"\"\"Xoá số thứ tự đầu dòng kiểu 1., 1.1., 2.3.4. trong title.\"\"\"\n",
    "    return re.sub(r\"^\\d+(\\.\\d+)*[.:]?\\s*\", \"\", text).strip()\n",
    "\n",
    "\n",
    "def normalize_text(text):\n",
    "    \"\"\"Chuẩn hoá khoảng trắng và dấu gạch ngang.\"\"\"\n",
    "    text = re.sub(r\"(?<!\\w)-(?!\\w)\", \" \", text)\n",
    "    text = re.sub(r\"\\s+\", \" \", text).strip()\n",
    "    return text\n",
    "\n",
    "\n",
    "def extract_llm_data(url):\n",
    "    response = requests.get(url)\n",
    "    soup = BeautifulSoup(response.text, \"html.parser\")\n",
    "\n",
    "    container = soup.find(\"div\", class_=\"detail-content afcbc-body\")\n",
    "    if not container:\n",
    "        raise ValueError(\"Không tìm thấy thẻ nội dung chính.\")\n",
    "\n",
    "    results = []\n",
    "    current = None\n",
    "\n",
    "    for tag in container.descendants:\n",
    "        if not isinstance(tag, Tag):\n",
    "            continue\n",
    "\n",
    "        if tag.name == \"h2\":\n",
    "            if current:\n",
    "                results.append(current)\n",
    "            current = {\n",
    "                \"title\": clean_numbering(tag.get_text(strip=True)),\n",
    "                \"content\": \"\"\n",
    "            }\n",
    "\n",
    "        elif tag.name in [\"h3\", \"p\"] and current:\n",
    "            full_text = tag.get_text(strip=True)\n",
    "            if not full_text:\n",
    "                continue\n",
    "            current[\"content\"] += (\"<sep>\" if current[\"content\"] else \" \") + full_text\n",
    "\n",
    "    if current:\n",
    "        results.append(current)\n",
    "\n",
    "    return results\n",
    "\n",
    "\n",
    "if __name__ == \"__main__\":\n",
    "    url = \"https://suckhoedoisong.vn/dieu-tri-bong-de-the-nao-169240719134922785.htm\"\n",
    "    data = extract_llm_data(url)\n",
    "\n",
    "    with open(\"llm_output_cleaned.json\", \"w\", encoding=\"utf-8\") as f:\n",
    "        json.dump(data, f, ensure_ascii=False, indent=2)\n",
    "\n",
    "    print(\"✅ Done. Output đã được lưu vào llm_output_cleaned.json\")\n"
   ]
  },
  {
   "cell_type": "code",
   "execution_count": 122,
   "metadata": {},
   "outputs": [
    {
     "data": {
      "text/plain": [
       "'.1.1. Thuốc chống trầm cảm 3 vòng'"
      ]
     },
     "execution_count": 122,
     "metadata": {},
     "output_type": "execute_result"
    }
   ],
   "source": [
    "text = \".1.1. Thuốc chống trầm cảm 3 vòng\"\n",
    "cleaned = re.sub(r\"^\\d+(\\.\\d+)*[.:]?\\s*\", \"\", text)\n",
    "cleaned"
   ]
  },
  {
   "cell_type": "code",
   "execution_count": 72,
   "metadata": {},
   "outputs": [
    {
     "data": {
      "text/plain": [
       "16"
      ]
     },
     "execution_count": 72,
     "metadata": {},
     "output_type": "execute_result"
    }
   ],
   "source": [
    "len(diseases)"
   ]
  }
 ],
 "metadata": {
  "kernelspec": {
   "display_name": "Python 3",
   "language": "python",
   "name": "python3"
  },
  "language_info": {
   "codemirror_mode": {
    "name": "ipython",
    "version": 3
   },
   "file_extension": ".py",
   "mimetype": "text/x-python",
   "name": "python",
   "nbconvert_exporter": "python",
   "pygments_lexer": "ipython3",
   "version": "3.10.8"
  }
 },
 "nbformat": 4,
 "nbformat_minor": 2
}
