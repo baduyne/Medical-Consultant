{
 "cells": [
  {
   "cell_type": "code",
   "execution_count": 5,
   "metadata": {},
   "outputs": [
    {
     "data": {
      "text/plain": [
       "''"
      ]
     },
     "execution_count": 5,
     "metadata": {},
     "output_type": "execute_result"
    }
   ],
   "source": [
    "question = \"Dấu hiệu của bệnh cảm cúm \"\n",
    "# context = \"Bảo quản nơi khô ráo, thoáng mát.- Đặt thuốc ở nhiệt độ dưới 30°C và tránh ánh sáng.- Giữ thuốc xa tầm tay của trẻ em. Bài viết trên đã cung cấp những thông tin cơ bản nhất về thuốc Carsantin (Carsantin 6.25mg), Hãy gọi ngay cho bác sĩ hoặc đến ngay cơ sở y tế gần nhất để được hỗ trợ kịp thời khi xảy ra các triệu chứng không mong muốn hoặc các dấu hiệu có thể ảnh hưởng đến sức khỏe nhé!\"\n",
    "from Rag.redis_client import *\n",
    "context = search_redis(question)\n",
    "context"
   ]
  },
  {
   "cell_type": "code",
   "execution_count": 6,
   "metadata": {},
   "outputs": [
    {
     "name": "stdout",
     "output_type": "stream",
     "text": [
      "Dấu hiệu của bệnh cảm cúm là dấu hiệu của bệnh cảm cúm.\n"
     ]
    }
   ],
   "source": [
    "from transformers import AutoTokenizer, AutoModelForSeq2SeqLM, BitsAndBytesConfig\n",
    "from peft import PeftModel\n",
    "import torch\n",
    "\n",
    "quantized_config = BitsAndBytesConfig(\n",
    "    load_in_4bit=True,\n",
    "    bnb_4bit_use_double_quant=True,\n",
    "    bnb_4bit_compute_dtype=torch.float16,\n",
    "    bnb_4bit_quant_type=\"nf4\"\n",
    ")\n",
    "\n",
    "# Load tokenizer\n",
    "tokenizer = AutoTokenizer.from_pretrained(\"./Model/vnt5-qa-final\")\n",
    "\n",
    "# Load base model\n",
    "base_model = AutoModelForSeq2SeqLM.from_pretrained(\n",
    "    \"PhucDanh/vit5-fine-tuning-for-question-answering\",  # hoặc model gốc\n",
    "    # device_map=\"auto\",\n",
    "    # quantization_config=quantized_config\n",
    ")\n",
    "\n",
    "# Load LoRA adapter\n",
    "model = PeftModel.from_pretrained(base_model, \"./Model/vnt5-qa-final\")\n",
    "model.eval()\n",
    "\n",
    "input_text = f\"Answer the question: {question} Context: {context}\"\n",
    "\n",
    "inputs = tokenizer(input_text, return_tensors=\"pt\", truncation=True, padding=\"max_length\", max_length=384)\n",
    "inputs = {k: v for k, v in inputs.items() if k != \"token_type_ids\"}\n",
    "\n",
    "with torch.no_grad():\n",
    "    outputs = model.generate(**inputs, max_new_tokens=128)\n",
    "\n",
    "print(tokenizer.decode(outputs[0], skip_special_tokens=True))"
   ]
  },
  {
   "cell_type": "code",
   "execution_count": null,
   "metadata": {},
   "outputs": [
    {
     "ename": "NameError",
     "evalue": "name 'model' is not defined",
     "output_type": "error",
     "traceback": [
      "\u001b[0;31m---------------------------------------------------------------------------\u001b[0m",
      "\u001b[0;31mNameError\u001b[0m                                 Traceback (most recent call last)",
      "Cell \u001b[0;32mIn[8], line 2\u001b[0m\n\u001b[1;32m      1\u001b[0m \u001b[38;5;28;01mfrom\u001b[39;00m\u001b[38;5;250m \u001b[39m\u001b[38;5;21;01mRag\u001b[39;00m\u001b[38;5;21;01m.\u001b[39;00m\u001b[38;5;21;01mredis\u001b[39;00m\u001b[38;5;250m \u001b[39m\u001b[38;5;28;01mimport\u001b[39;00m \u001b[38;5;241m*\u001b[39m\n\u001b[0;32m----> 2\u001b[0m context \u001b[38;5;241m=\u001b[39m \u001b[43msearch_redis\u001b[49m\u001b[43m(\u001b[49m\u001b[43mquestion\u001b[49m\u001b[43m)\u001b[49m\n\u001b[1;32m      3\u001b[0m context\n",
      "File \u001b[0;32m~/Invidual-project/MedicalConsultant/Rag/redis.py:20\u001b[0m, in \u001b[0;36msearch_redis\u001b[0;34m(query_text, top_k, similiarity)\u001b[0m\n\u001b[1;32m     18\u001b[0m \u001b[38;5;28;01mdef\u001b[39;00m\u001b[38;5;250m \u001b[39m\u001b[38;5;21msearch_redis\u001b[39m(query_text, top_k\u001b[38;5;241m=\u001b[39m\u001b[38;5;241m5\u001b[39m, similiarity\u001b[38;5;241m=\u001b[39m\u001b[38;5;241m0.7\u001b[39m):\n\u001b[1;32m     19\u001b[0m     score_threshold \u001b[38;5;241m=\u001b[39m \u001b[38;5;241m1\u001b[39m \u001b[38;5;241m-\u001b[39m similiarity\n\u001b[0;32m---> 20\u001b[0m     vec \u001b[38;5;241m=\u001b[39m \u001b[43mmodel\u001b[49m\u001b[38;5;241m.\u001b[39mencode(query_text)\u001b[38;5;241m.\u001b[39mastype(np\u001b[38;5;241m.\u001b[39mfloat32)\u001b[38;5;241m.\u001b[39mtobytes()\n\u001b[1;32m     21\u001b[0m     query_str \u001b[38;5;241m=\u001b[39m \u001b[38;5;124mf\u001b[39m\u001b[38;5;124m'\u001b[39m\u001b[38;5;124m*=>[KNN \u001b[39m\u001b[38;5;132;01m{\u001b[39;00mtop_k\u001b[38;5;132;01m}\u001b[39;00m\u001b[38;5;124m @embedding $vec AS score]\u001b[39m\u001b[38;5;124m'\u001b[39m\n\u001b[1;32m     23\u001b[0m     q \u001b[38;5;241m=\u001b[39m Query(query_str)\\\n\u001b[1;32m     24\u001b[0m         \u001b[38;5;241m.\u001b[39mreturn_fields(\u001b[38;5;124m\"\u001b[39m\u001b[38;5;124mcontext\u001b[39m\u001b[38;5;124m\"\u001b[39m, \u001b[38;5;124m\"\u001b[39m\u001b[38;5;124mscore\u001b[39m\u001b[38;5;124m\"\u001b[39m)\\\n\u001b[1;32m     25\u001b[0m         \u001b[38;5;241m.\u001b[39msort_by(\u001b[38;5;124m\"\u001b[39m\u001b[38;5;124mscore\u001b[39m\u001b[38;5;124m\"\u001b[39m)\\\n\u001b[1;32m     26\u001b[0m         \u001b[38;5;241m.\u001b[39mdialect(\u001b[38;5;241m2\u001b[39m)\n",
      "\u001b[0;31mNameError\u001b[0m: name 'model' is not defined"
     ]
    }
   ],
   "source": []
  }
 ],
 "metadata": {
  "kernelspec": {
   "display_name": "mle",
   "language": "python",
   "name": "python3"
  },
  "language_info": {
   "codemirror_mode": {
    "name": "ipython",
    "version": 3
   },
   "file_extension": ".py",
   "mimetype": "text/x-python",
   "name": "python",
   "nbconvert_exporter": "python",
   "pygments_lexer": "ipython3",
   "version": "3.10.16"
  }
 },
 "nbformat": 4,
 "nbformat_minor": 2
}
